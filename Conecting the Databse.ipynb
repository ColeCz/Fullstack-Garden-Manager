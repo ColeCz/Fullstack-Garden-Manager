{
 "cells": [
  {
   "cell_type": "code",
   "execution_count": null,
   "id": "2d6ef5b6",
   "metadata": {},
   "outputs": [],
   "source": [
    "!pip install mysql-connector-python\n",
    "!pip install flask\n",
    "!pip install flask-login\n",
    "!pip show flask\n"
   ]
  },
  {
   "cell_type": "code",
   "execution_count": null,
   "id": "dd62a807",
   "metadata": {},
   "outputs": [],
   "source": [
    "pip install Jinja2==2.11.3"
   ]
  },
  {
   "cell_type": "code",
   "execution_count": null,
   "id": "bcd67429",
   "metadata": {},
   "outputs": [],
   "source": [
    "!pip show Jinja2"
   ]
  },
  {
   "cell_type": "code",
   "execution_count": null,
   "id": "9f2c4dd4",
   "metadata": {},
   "outputs": [],
   "source": [
    "!pip uninstall flask-sqlalchemy\n"
   ]
  },
  {
   "cell_type": "code",
   "execution_count": 1,
   "id": "056d9578",
   "metadata": {},
   "outputs": [
    {
     "name": "stdout",
     "output_type": "stream",
     "text": [
      "Requirement already satisfied: markupsafe==1.1.1 in c:\\users\\amhed\\anaconda3\\lib\\site-packages (1.1.1)\n"
     ]
    }
   ],
   "source": [
    "!pip install markupsafe==1.1.1\n",
    "\n"
   ]
  },
  {
   "cell_type": "code",
   "execution_count": 2,
   "id": "bf3fbca4",
   "metadata": {},
   "outputs": [
    {
     "name": "stdout",
     "output_type": "stream",
     "text": [
      "1.1.2\n",
      "2.11.3\n"
     ]
    }
   ],
   "source": [
    "import flask\n",
    "import jinja2\n",
    "\n",
    "print(flask.__version__)\n",
    "print(jinja2.__version__)\n",
    "\n",
    "\n",
    "# !pip install Jinja2==<desired_version>\n"
   ]
  },
  {
   "cell_type": "code",
   "execution_count": 3,
   "id": "079a41b0",
   "metadata": {},
   "outputs": [],
   "source": [
    "from flask import Flask, request, jsonify\n",
    "import mysql.connector\n",
    "\n",
    "# import mysql.connector\n",
    "# from flask import render_template, request, redirect, url_for\n",
    "# from flask_login import login_user, current_user, login_required, logout_user"
   ]
  },
  {
   "cell_type": "code",
   "execution_count": 7,
   "id": "e4d62f59",
   "metadata": {},
   "outputs": [
    {
     "name": "stdout",
     "output_type": "stream",
     "text": [
      " * Serving Flask app \"__main__\" (lazy loading)\n",
      " * Environment: production\n",
      "\u001b[31m   WARNING: This is a development server. Do not use it in a production deployment.\u001b[0m\n",
      "\u001b[2m   Use a production WSGI server instead.\u001b[0m\n",
      " * Debug mode: on\n"
     ]
    },
    {
     "name": "stderr",
     "output_type": "stream",
     "text": [
      " * Restarting with watchdog (windowsapi)\n"
     ]
    },
    {
     "ename": "SystemExit",
     "evalue": "1",
     "output_type": "error",
     "traceback": [
      "An exception has occurred, use %tb to see the full traceback.\n",
      "\u001b[1;31mSystemExit\u001b[0m\u001b[1;31m:\u001b[0m 1\n"
     ]
    }
   ],
   "source": [
    "\n",
    "\n",
    "app = Flask(__name__)\n",
    "\n",
    "# Connect to MySQL\n",
    "mydb = mysql.connector.connect(\n",
    "    host=\"localhost\",\n",
    "    user=\"root\",\n",
    "    password=\"Wilcome88111710348\",\n",
    "    database=\"garden_management_system\"\n",
    ")\n",
    "\n",
    "# Create a cursor object\n",
    "mycursor = mydb.cursor()\n",
    "\n",
    "# Create\n",
    "@app.route('/users', methods=['POST'])\n",
    "def create_user():\n",
    "    data = request.get_json()\n",
    "    query = \"INSERT INTO User (email, password) VALUES (%s, %s)\"\n",
    "    values = (data['email'], data['password'])\n",
    "    mycursor.execute(query, values)\n",
    "    mydb.commit()\n",
    "    return jsonify({\"message\": \"User created successfully\"})\n",
    "\n",
    "# Read\n",
    "@app.route('/users/<int:user_id>', methods=['GET'])\n",
    "def get_user(user_id):\n",
    "    query = \"SELECT * FROM User WHERE user_id = %s\"\n",
    "    values = (user_id,)\n",
    "    mycursor.execute(query, values)\n",
    "    user = mycursor.fetchone()\n",
    "    if user:\n",
    "        user_data = {\n",
    "            \"user_id\": user[0],\n",
    "            \"email\": user[1],\n",
    "            \"password\": user[2]\n",
    "        }\n",
    "        return jsonify(user_data)\n",
    "    else:\n",
    "        return jsonify({\"message\": \"User not found\"}), 404\n",
    "\n",
    "# Update\n",
    "@app.route('/users/<int:user_id>', methods=['PUT'])\n",
    "def update_user(user_id):\n",
    "    data = request.get_json()\n",
    "    query = \"UPDATE User SET email = %s, password = %s WHERE user_id = %s\"\n",
    "    values = (data['email'], data['password'], user_id)\n",
    "    mycursor.execute(query, values)\n",
    "    mydb.commit()\n",
    "    return jsonify({\"message\": \"User updated successfully\"})\n",
    "\n",
    "# Delete\n",
    "@app.route('/users/<int:user_id>', methods=['DELETE'])\n",
    "def delete_user(user_id):\n",
    "    query = \"DELETE FROM User WHERE user_id = %s\"\n",
    "    values = (user_id,)\n",
    "    mycursor.execute(query, values)\n",
    "    mydb.commit()\n",
    "    return jsonify({\"message\": \"User deleted successfully\"})\n",
    "\n",
    "if __name__ == '__main__':\n",
    "    app.run(debug=True)\n"
   ]
  },
  {
   "cell_type": "code",
   "execution_count": null,
   "id": "8690ad22",
   "metadata": {},
   "outputs": [],
   "source": []
  },
  {
   "cell_type": "code",
   "execution_count": null,
   "id": "f9c7471c",
   "metadata": {},
   "outputs": [],
   "source": [
    "\n",
    "\n"
   ]
  },
  {
   "cell_type": "code",
   "execution_count": null,
   "id": "2ed5886d",
   "metadata": {},
   "outputs": [],
   "source": [
    "\n"
   ]
  },
  {
   "cell_type": "code",
   "execution_count": null,
   "id": "aff690b8",
   "metadata": {},
   "outputs": [],
   "source": []
  },
  {
   "cell_type": "code",
   "execution_count": null,
   "id": "14e05824",
   "metadata": {},
   "outputs": [],
   "source": []
  },
  {
   "cell_type": "code",
   "execution_count": null,
   "id": "83cda180",
   "metadata": {},
   "outputs": [],
   "source": []
  },
  {
   "cell_type": "code",
   "execution_count": null,
   "id": "643159e2",
   "metadata": {},
   "outputs": [],
   "source": []
  },
  {
   "cell_type": "markdown",
   "id": "79014547",
   "metadata": {},
   "source": []
  },
  {
   "cell_type": "code",
   "execution_count": null,
   "id": "3ac7391b",
   "metadata": {},
   "outputs": [],
   "source": [
    "\n"
   ]
  },
  {
   "cell_type": "code",
   "execution_count": null,
   "id": "30fa8cdb",
   "metadata": {},
   "outputs": [],
   "source": [
    "\n"
   ]
  },
  {
   "cell_type": "code",
   "execution_count": null,
   "id": "46a7b415",
   "metadata": {},
   "outputs": [],
   "source": []
  },
  {
   "cell_type": "code",
   "execution_count": null,
   "id": "519ebebe",
   "metadata": {},
   "outputs": [],
   "source": []
  },
  {
   "cell_type": "code",
   "execution_count": null,
   "id": "f41f5c32",
   "metadata": {},
   "outputs": [],
   "source": []
  },
  {
   "cell_type": "code",
   "execution_count": null,
   "id": "8c4dc634",
   "metadata": {},
   "outputs": [],
   "source": []
  },
  {
   "cell_type": "code",
   "execution_count": null,
   "id": "5557cd06",
   "metadata": {},
   "outputs": [],
   "source": [
    "\n"
   ]
  },
  {
   "cell_type": "raw",
   "id": "45e0da3e",
   "metadata": {},
   "source": []
  },
  {
   "cell_type": "code",
   "execution_count": null,
   "id": "356eff3b",
   "metadata": {},
   "outputs": [],
   "source": [
    "\n"
   ]
  },
  {
   "cell_type": "code",
   "execution_count": null,
   "id": "96ba8481",
   "metadata": {},
   "outputs": [],
   "source": []
  },
  {
   "cell_type": "code",
   "execution_count": null,
   "id": "a3b70820",
   "metadata": {},
   "outputs": [],
   "source": [
    "\n"
   ]
  }
 ],
 "metadata": {
  "kernelspec": {
   "display_name": "Python 3",
   "language": "python",
   "name": "python3"
  },
  "language_info": {
   "codemirror_mode": {
    "name": "ipython",
    "version": 3
   },
   "file_extension": ".py",
   "mimetype": "text/x-python",
   "name": "python",
   "nbconvert_exporter": "python",
   "pygments_lexer": "ipython3",
   "version": "3.8.8"
  }
 },
 "nbformat": 4,
 "nbformat_minor": 5
}
